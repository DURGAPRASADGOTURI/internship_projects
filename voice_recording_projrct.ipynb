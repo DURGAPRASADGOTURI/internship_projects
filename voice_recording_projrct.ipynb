{
 "cells": [
  {
   "cell_type": "code",
   "execution_count": 1,
   "metadata": {},
   "outputs": [],
   "source": [
    "import sounddevice as sound\n",
    "#sounddevice is a library that allows you to record and play back audio using Python."
   ]
  },
  {
   "cell_type": "code",
   "execution_count": 2,
   "metadata": {},
   "outputs": [],
   "source": [
    "from scipy.io.wavfile import write\n",
    "# here scipy is used to set the name and type of recorded audio file is provide tolls for woking with wav file"
   ]
  },
  {
   "cell_type": "code",
   "execution_count": 4,
   "metadata": {},
   "outputs": [
    {
     "name": "stdout",
     "output_type": "stream",
     "text": [
      "recording start\n",
      "say something you want to record\n"
     ]
    },
    {
     "data": {
      "text/plain": [
       "'write(\"recording.wav\", freq, recording) uses the write function from scipy.io.wavfile\\nto save the recorded audio data to a file named “recording.wav” with the specified frequency.'"
      ]
     },
     "execution_count": 4,
     "metadata": {},
     "output_type": "execute_result"
    }
   ],
   "source": [
    "freq=44100                   # \n",
    "\n",
    "duration=20           # here duration of recording is set to 10 seconds\n",
    "\n",
    "recording=sound.rec(int(duration*freq),samplerate=freq,channels=2)\n",
    "\n",
    "# sound.rec() is a function from the sounddevice library that starts the recording process\n",
    "# int(duration*freq) calculates the total number of samples to record based on the duration and frequency.\n",
    "# samplerate=freq sets the sampling rate for the recording.\n",
    "# channels=2 indicates that you want to record stereo audio with two channels.\n",
    "\n",
    "print(\"recording start\")\n",
    "\n",
    "print(\"say something you want to record\")\n",
    "\n",
    "sound.wait()\n",
    "# sound.wait() pauses the program until the recording is finished.\n",
    "\n",
    "write(\"recording.wav\",freq,recording)\n",
    "'''write(\"recording.wav\", freq, recording) uses the write function from scipy.io.wavfile\n",
    "to save the recorded audio data to a file named “recording.wav” with the specified frequency.'''"
   ]
  },
  {
   "cell_type": "code",
   "execution_count": null,
   "metadata": {},
   "outputs": [],
   "source": []
  },
  {
   "cell_type": "code",
   "execution_count": null,
   "metadata": {},
   "outputs": [],
   "source": []
  }
 ],
 "metadata": {
  "kernelspec": {
   "display_name": "Python 3",
   "language": "python",
   "name": "python3"
  },
  "language_info": {
   "codemirror_mode": {
    "name": "ipython",
    "version": 3
   },
   "file_extension": ".py",
   "mimetype": "text/x-python",
   "name": "python",
   "nbconvert_exporter": "python",
   "pygments_lexer": "ipython3",
   "version": "3.12.4"
  }
 },
 "nbformat": 4,
 "nbformat_minor": 2
}
